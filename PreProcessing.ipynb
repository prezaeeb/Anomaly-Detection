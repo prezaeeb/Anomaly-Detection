{
 "cells": [
  {
   "cell_type": "code",
   "execution_count": 1,
   "metadata": {},
   "outputs": [
    {
     "data": {
      "text/html": [
       "<div>\n",
       "<style scoped>\n",
       "    .dataframe tbody tr th:only-of-type {\n",
       "        vertical-align: middle;\n",
       "    }\n",
       "\n",
       "    .dataframe tbody tr th {\n",
       "        vertical-align: top;\n",
       "    }\n",
       "\n",
       "    .dataframe thead th {\n",
       "        text-align: right;\n",
       "    }\n",
       "</style>\n",
       "<table border=\"1\" class=\"dataframe\">\n",
       "  <thead>\n",
       "    <tr style=\"text-align: right;\">\n",
       "      <th></th>\n",
       "      <th>declaration_date</th>\n",
       "      <th>statistical_value</th>\n",
       "      <th>net_weight</th>\n",
       "      <th>commodity_code</th>\n",
       "      <th>destination_country_full</th>\n",
       "      <th>mode_of_transport_full</th>\n",
       "      <th>domestic_party_id_unique</th>\n",
       "    </tr>\n",
       "  </thead>\n",
       "  <tbody>\n",
       "    <tr>\n",
       "      <th>0</th>\n",
       "      <td>2019-12-12</td>\n",
       "      <td>279639</td>\n",
       "      <td>1090</td>\n",
       "      <td>Kjølte kongekrabbe</td>\n",
       "      <td>KR - Sør-Korea</td>\n",
       "      <td>40 - LUFTFARTØY</td>\n",
       "      <td>327281393</td>\n",
       "    </tr>\n",
       "    <tr>\n",
       "      <th>1</th>\n",
       "      <td>2020-10-20</td>\n",
       "      <td>24117</td>\n",
       "      <td>360</td>\n",
       "      <td>Kjølte kongekrabbe</td>\n",
       "      <td>SE - Sverige</td>\n",
       "      <td>30 - BIL (VEITRANSPORT)</td>\n",
       "      <td>-363331949</td>\n",
       "    </tr>\n",
       "    <tr>\n",
       "      <th>2</th>\n",
       "      <td>2019-04-16</td>\n",
       "      <td>26857</td>\n",
       "      <td>100</td>\n",
       "      <td>Kjølte kongekrabbe</td>\n",
       "      <td>GB - Storbritannia</td>\n",
       "      <td>40 - LUFTFARTØY</td>\n",
       "      <td>1998405543</td>\n",
       "    </tr>\n",
       "    <tr>\n",
       "      <th>3</th>\n",
       "      <td>2020-04-27</td>\n",
       "      <td>363</td>\n",
       "      <td>4</td>\n",
       "      <td>Kjølte kongekrabbe</td>\n",
       "      <td>NaN</td>\n",
       "      <td>30 - BIL (VEITRANSPORT)</td>\n",
       "      <td>1762013263</td>\n",
       "    </tr>\n",
       "    <tr>\n",
       "      <th>4</th>\n",
       "      <td>2020-11-03</td>\n",
       "      <td>23884</td>\n",
       "      <td>360</td>\n",
       "      <td>Kjølte kongekrabbe</td>\n",
       "      <td>SE - Sverige</td>\n",
       "      <td>30 - BIL (VEITRANSPORT)</td>\n",
       "      <td>-363331949</td>\n",
       "    </tr>\n",
       "    <tr>\n",
       "      <th>...</th>\n",
       "      <td>...</td>\n",
       "      <td>...</td>\n",
       "      <td>...</td>\n",
       "      <td>...</td>\n",
       "      <td>...</td>\n",
       "      <td>...</td>\n",
       "      <td>...</td>\n",
       "    </tr>\n",
       "    <tr>\n",
       "      <th>9541</th>\n",
       "      <td>2021-05-07</td>\n",
       "      <td>266767</td>\n",
       "      <td>500</td>\n",
       "      <td>Fryste kongekrabbe</td>\n",
       "      <td>DK - Danmark</td>\n",
       "      <td>16 - BIL PÅ FARTØY</td>\n",
       "      <td>-1230701305</td>\n",
       "    </tr>\n",
       "    <tr>\n",
       "      <th>9542</th>\n",
       "      <td>2021-11-11</td>\n",
       "      <td>250112</td>\n",
       "      <td>300</td>\n",
       "      <td>Fryste kongekrabbe</td>\n",
       "      <td>NL - Nederland</td>\n",
       "      <td>10 - FARTØY, NORSKE/UTENLANDSKE</td>\n",
       "      <td>-896532085</td>\n",
       "    </tr>\n",
       "    <tr>\n",
       "      <th>9543</th>\n",
       "      <td>2021-12-11</td>\n",
       "      <td>308785</td>\n",
       "      <td>420</td>\n",
       "      <td>Fryste kongekrabbe</td>\n",
       "      <td>SE - Sverige</td>\n",
       "      <td>30 - BIL (VEITRANSPORT)</td>\n",
       "      <td>-1861571126</td>\n",
       "    </tr>\n",
       "    <tr>\n",
       "      <th>9544</th>\n",
       "      <td>2022-01-21</td>\n",
       "      <td>270192</td>\n",
       "      <td>303</td>\n",
       "      <td>Fryste kongekrabbe</td>\n",
       "      <td>NL - Nederland</td>\n",
       "      <td>30 - BIL (VEITRANSPORT)</td>\n",
       "      <td>-1861571126</td>\n",
       "    </tr>\n",
       "    <tr>\n",
       "      <th>9545</th>\n",
       "      <td>2022-05-16</td>\n",
       "      <td>1044074</td>\n",
       "      <td>1080</td>\n",
       "      <td>Fryste kongekrabbe</td>\n",
       "      <td>ES - Spania</td>\n",
       "      <td>10 - FARTØY, NORSKE/UTENLANDSKE</td>\n",
       "      <td>327281393</td>\n",
       "    </tr>\n",
       "  </tbody>\n",
       "</table>\n",
       "<p>9546 rows × 7 columns</p>\n",
       "</div>"
      ],
      "text/plain": [
       "     declaration_date  statistical_value  net_weight      commodity_code  \\\n",
       "0          2019-12-12             279639        1090  Kjølte kongekrabbe   \n",
       "1          2020-10-20              24117         360  Kjølte kongekrabbe   \n",
       "2          2019-04-16              26857         100  Kjølte kongekrabbe   \n",
       "3          2020-04-27                363           4  Kjølte kongekrabbe   \n",
       "4          2020-11-03              23884         360  Kjølte kongekrabbe   \n",
       "...               ...                ...         ...                 ...   \n",
       "9541       2021-05-07             266767         500  Fryste kongekrabbe   \n",
       "9542       2021-11-11             250112         300  Fryste kongekrabbe   \n",
       "9543       2021-12-11             308785         420  Fryste kongekrabbe   \n",
       "9544       2022-01-21             270192         303  Fryste kongekrabbe   \n",
       "9545       2022-05-16            1044074        1080  Fryste kongekrabbe   \n",
       "\n",
       "     destination_country_full           mode_of_transport_full  \\\n",
       "0              KR - Sør-Korea                  40 - LUFTFARTØY   \n",
       "1                SE - Sverige          30 - BIL (VEITRANSPORT)   \n",
       "2          GB - Storbritannia                  40 - LUFTFARTØY   \n",
       "3                         NaN          30 - BIL (VEITRANSPORT)   \n",
       "4                SE - Sverige          30 - BIL (VEITRANSPORT)   \n",
       "...                       ...                              ...   \n",
       "9541             DK - Danmark               16 - BIL PÅ FARTØY   \n",
       "9542           NL - Nederland  10 - FARTØY, NORSKE/UTENLANDSKE   \n",
       "9543             SE - Sverige          30 - BIL (VEITRANSPORT)   \n",
       "9544           NL - Nederland          30 - BIL (VEITRANSPORT)   \n",
       "9545              ES - Spania  10 - FARTØY, NORSKE/UTENLANDSKE   \n",
       "\n",
       "      domestic_party_id_unique  \n",
       "0                    327281393  \n",
       "1                   -363331949  \n",
       "2                   1998405543  \n",
       "3                   1762013263  \n",
       "4                   -363331949  \n",
       "...                        ...  \n",
       "9541               -1230701305  \n",
       "9542                -896532085  \n",
       "9543               -1861571126  \n",
       "9544               -1861571126  \n",
       "9545                 327281393  \n",
       "\n",
       "[9546 rows x 7 columns]"
      ]
     },
     "execution_count": 1,
     "metadata": {},
     "output_type": "execute_result"
    }
   ],
   "source": [
    "# Loading the data\n",
    "\n",
    "import pandas as pd\n",
    "MainData = pd.read_csv(\"/Users/parisarezaeeborj/Downloads/contour-export-utrekk_anonym-goods_item-29-02-2024.csv\")\n",
    "MainData"
   ]
  },
  {
   "cell_type": "markdown",
   "metadata": {},
   "source": [
    "# Let's take a look at our data\n"
   ]
  },
  {
   "cell_type": "code",
   "execution_count": 2,
   "metadata": {},
   "outputs": [
    {
     "name": "stdout",
     "output_type": "stream",
     "text": [
      "<class 'pandas.core.frame.DataFrame'>\n",
      "RangeIndex: 9546 entries, 0 to 9545\n",
      "Data columns (total 7 columns):\n",
      " #   Column                    Non-Null Count  Dtype \n",
      "---  ------                    --------------  ----- \n",
      " 0   declaration_date          9546 non-null   object\n",
      " 1   statistical_value         9546 non-null   int64 \n",
      " 2   net_weight                9546 non-null   int64 \n",
      " 3   commodity_code            9546 non-null   object\n",
      " 4   destination_country_full  9392 non-null   object\n",
      " 5   mode_of_transport_full    9546 non-null   object\n",
      " 6   domestic_party_id_unique  9546 non-null   int64 \n",
      "dtypes: int64(3), object(4)\n",
      "memory usage: 522.2+ KB\n"
     ]
    }
   ],
   "source": [
    "MainData.info()"
   ]
  },
  {
   "cell_type": "markdown",
   "metadata": {},
   "source": [
    "# We have many different types of data (categorical and numeric), different scales of numerical data, and even missing data! \n",
    "\n",
    "\n",
    "We need to clean it up a bit before we should do any classification or feature selection.\n",
    "\n",
    "There are 154 null (missing) values for the \"destination_country_full\" feature.\n",
    "\n",
    "We also have several features that are clearly categorical: commodity_code, destination_country_full, mode_of_transport_full.\n",
    "\n",
    "# Let's use one hot encoding on these features to create binary (numeric) features from them."
   ]
  },
  {
   "cell_type": "code",
   "execution_count": 3,
   "metadata": {},
   "outputs": [],
   "source": [
    "#\"get_dummies\" is the pandas version of one hot encoding.  \n",
    "\n",
    "\n",
    "y1 = pd.get_dummies(MainData[\"commodity_code\"], prefix=\"commodity_code\")\n",
    "y2 = pd.get_dummies(MainData[\"destination_country_full\"], prefix=\"destination_country_full\")\n",
    "y3 = pd.get_dummies(MainData[\"mode_of_transport_full\"], prefix=\"mode_of_transport_full\")"
   ]
  },
  {
   "cell_type": "markdown",
   "metadata": {},
   "source": [
    "Since we have \"one-hot-encoded\" our categorical features, we can remove the old categorical features and replace them with binary features."
   ]
  },
  {
   "cell_type": "code",
   "execution_count": 5,
   "metadata": {},
   "outputs": [],
   "source": [
    "MainData = MainData.drop([\"commodity_code\", \"destination_country_full\", \"mode_of_transport_full\"], axis = 1)"
   ]
  },
  {
   "cell_type": "markdown",
   "metadata": {},
   "source": [
    "# adding one hot encoded features to the data."
   ]
  },
  {
   "cell_type": "code",
   "execution_count": 6,
   "metadata": {},
   "outputs": [],
   "source": [
    "MainData = pd.concat([MainData,y1,y2,y3], axis=1)"
   ]
  },
  {
   "cell_type": "markdown",
   "metadata": {},
   "source": [
    "We also have declaration_date feature that is not numerical. \n",
    "# converting to the numerical data as below"
   ]
  },
  {
   "cell_type": "code",
   "execution_count": 7,
   "metadata": {},
   "outputs": [],
   "source": [
    "MainData[\"declaration_date\"] = MainData['declaration_date'].str.replace(\"-\",\"\").astype(int)"
   ]
  },
  {
   "cell_type": "markdown",
   "metadata": {},
   "source": [
    "# min-max normalization"
   ]
  },
  {
   "cell_type": "code",
   "execution_count": 9,
   "metadata": {},
   "outputs": [],
   "source": [
    "normalized_train=(MainData-MainData.min())/(MainData.max()-MainData.min()) #All features scaled between values of 0 and 1.\n"
   ]
  },
  {
   "cell_type": "code",
   "execution_count": 10,
   "metadata": {},
   "outputs": [],
   "source": [
    "#Storing feature values into matrices/lists to be used  for sklearn.\n",
    "X = normalized_train.values.tolist()"
   ]
  }
 ],
 "metadata": {
  "kernelspec": {
   "display_name": "Python 3",
   "language": "python",
   "name": "python3"
  },
  "language_info": {
   "codemirror_mode": {
    "name": "ipython",
    "version": 3
   },
   "file_extension": ".py",
   "mimetype": "text/x-python",
   "name": "python",
   "nbconvert_exporter": "python",
   "pygments_lexer": "ipython3",
   "version": "3.8.5"
  }
 },
 "nbformat": 4,
 "nbformat_minor": 4
}
